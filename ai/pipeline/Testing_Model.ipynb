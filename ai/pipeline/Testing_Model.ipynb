{
  "nbformat": 4,
  "nbformat_minor": 0,
  "metadata": {
    "colab": {
      "provenance": []
    },
    "kernelspec": {
      "name": "python3",
      "display_name": "Python 3"
    },
    "language_info": {
      "name": "python"
    }
  },
  "cells": [
    {
      "cell_type": "code",
      "execution_count": 11,
      "metadata": {
        "id": "r2-8RWgeqfBy"
      },
      "outputs": [],
      "source": [
        "import io\n",
        "from PIL import Image\n",
        "import io\n",
        "import sys\n",
        "import torch\n",
        "import torchvision.transforms as transforms\n",
        "import torch.nn as nn\n",
        "from torchvision.models import resnet34\n",
        "import torch.nn.functional as F"
      ]
    },
    {
      "cell_type": "code",
      "source": [
        "TRANSFORM = transforms.Compose(\n",
        "    [transforms.ToTensor(),\n",
        "     transforms.Normalize((0.5, 0.5, 0.5), (0.5, 0.5, 0.5))])\n",
        "\n",
        "TRAIN_BATCH_SIZE = 32\n",
        "TEST_BATCH_SIZE = 4\n",
        "VAL_BATCH_SIZE = 4\n",
        "MODEL = resnet34(pretrained=False) ## change it to True before training\n",
        "NUM_CLASSES = 10\n",
        "LEARNING_RATE = 10e-3"
      ],
      "metadata": {
        "colab": {
          "base_uri": "https://localhost:8080/"
        },
        "id": "IU8NoaT9s0kT",
        "outputId": "b4007031-5a67-47be-b058-0479616a1458"
      },
      "execution_count": 12,
      "outputs": [
        {
          "output_type": "stream",
          "name": "stderr",
          "text": [
            "/usr/local/lib/python3.7/dist-packages/torchvision/models/_utils.py:209: UserWarning: The parameter 'pretrained' is deprecated since 0.13 and will be removed in 0.15, please use 'weights' instead.\n",
            "  f\"The parameter '{pretrained_param}' is deprecated since 0.13 and will be removed in 0.15, \"\n",
            "/usr/local/lib/python3.7/dist-packages/torchvision/models/_utils.py:223: UserWarning: Arguments other than a weight enum or `None` for 'weights' are deprecated since 0.13 and will be removed in 0.15. The current behavior is equivalent to passing `weights=None`.\n",
            "  warnings.warn(msg)\n"
          ]
        }
      ]
    },
    {
      "cell_type": "code",
      "source": [
        "class ImageClassifier:\n",
        "    def __init__(self):\n",
        "        # Class module from AI team        \n",
        "        self.classifier = Classifier()\n",
        "        # Model path with pth file\n",
        "        model_path = 'drive/MyDrive/model/ResNet34.pth'               \n",
        "        self.classifier.load_state_dict(torch.load(model_path, map_location=torch.device('cpu')))\n",
        "\n",
        "    def predict(self, image): \n",
        "        # Preprocessing image      \n",
        "        normalize = transforms.Normalize(mean=[0.485, 0.456, 0.406],\n",
        "                                         std=[0.229, 0.224, 0.225])\n",
        "        preprocess = transforms.Compose([transforms.RandomResizedCrop(224),\n",
        "                                         transforms.RandomHorizontalFlip(),\n",
        "                                         transforms.ToTensor(),\n",
        "                                         normalize])\n",
        "        image = preprocess(image) \n",
        "        image = image.unsqueeze(0)\n",
        "        # Predict image from classifier\n",
        "        preds = F.softmax(self.classifier(image), dim=1)\n",
        "        # Get a results with tensor value\n",
        "        results = torch.topk(preds.cpu().data, k=3, dim=1)\n",
        "        # Get tensor classes and convert it to list \n",
        "        classes = results[1][0]\n",
        "        classes = classes.tolist()\n",
        "        # Get tensor values and convert it to list\n",
        "        value = results[0][0]\n",
        "        v = value.tolist()\n",
        "        # To dictionary\n",
        "        res = {classes[i]: v[i] for i in range(len(classes))}\n",
        "        # Get key of max value from dictionary\n",
        "        max_value = max(res, key=res.get)\n",
        "        # Open class txt for know what the predicted value from the model\n",
        "        with open('class.txt', 'r') as f:\n",
        "          to_label = eval(f.read())\n",
        "        # Get result final and return it\n",
        "        result_final = to_label[max_value]\n",
        "        return result_final"
      ],
      "metadata": {
        "id": "zpkhhZcrrOqb"
      },
      "execution_count": 14,
      "outputs": []
    },
    {
      "cell_type": "markdown",
      "source": [
        "### PREDICTION"
      ],
      "metadata": {
        "id": "dv7eY6RkizDe"
      }
    },
    {
      "cell_type": "code",
      "source": [
        "# Call Image Classifier class for BE side\n",
        "image_classifier = ImageClassifier()"
      ],
      "metadata": {
        "colab": {
          "base_uri": "https://localhost:8080/"
        },
        "id": "dXFiu65uqgsk",
        "outputId": "d9855064-057f-4e22-b604-0da25b58263d"
      },
      "execution_count": 15,
      "outputs": [
        {
          "output_type": "stream",
          "name": "stderr",
          "text": [
            "/usr/local/lib/python3.7/dist-packages/pytorch_lightning/core/lightning.py:23: LightningDeprecationWarning: pytorch_lightning.core.lightning.LightningModule has been deprecated in v1.7 and will be removed in v1.9. Use the equivalent class from the pytorch_lightning.core.module.LightningModule class instead.\n",
            "  \"pytorch_lightning.core.lightning.LightningModule has been deprecated in v1.7\"\n"
          ]
        }
      ]
    },
    {
      "cell_type": "code",
      "source": [
        "# Testing image\n",
        "image = IMAGE\n",
        "image = Image.open(image)\n",
        "predicted_class = image_classifier.predict(image)\n",
        "\n",
        "print(predicted_class)"
      ],
      "metadata": {
        "id": "o1I3TpMeqjZ1",
        "colab": {
          "base_uri": "https://localhost:8080/"
        },
        "outputId": "797ff3ee-42f0-4ffa-99f9-3d169ffc1dab"
      },
      "execution_count": 17,
      "outputs": [
        {
          "output_type": "stream",
          "name": "stdout",
          "text": [
            "Coat\n"
          ]
        }
      ]
    }
  ]
}