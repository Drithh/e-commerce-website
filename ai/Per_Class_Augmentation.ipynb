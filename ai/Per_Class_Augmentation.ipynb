{
  "cells": [
    {
      "cell_type": "code",
      "execution_count": null,
      "metadata": {
        "colab": {
          "base_uri": "https://localhost:8080/"
        },
        "id": "xtJX0NH6PSqh",
        "outputId": "55c1341e-bb42-4525-cd5f-34594430a456"
      },
      "outputs": [
        {
          "output_type": "stream",
          "name": "stdout",
          "text": [
            "Looking in indexes: https://pypi.org/simple, https://us-python.pkg.dev/colab-wheels/public/simple/\n",
            "Collecting Augmentor\n",
            "  Downloading Augmentor-0.2.10-py2.py3-none-any.whl (38 kB)\n",
            "Requirement already satisfied: tqdm>=4.9.0 in /usr/local/lib/python3.7/dist-packages (from Augmentor) (4.64.1)\n",
            "Requirement already satisfied: Pillow>=5.2.0 in /usr/local/lib/python3.7/dist-packages (from Augmentor) (7.1.2)\n",
            "Requirement already satisfied: numpy>=1.11.0 in /usr/local/lib/python3.7/dist-packages (from Augmentor) (1.21.6)\n",
            "Requirement already satisfied: future>=0.16.0 in /usr/local/lib/python3.7/dist-packages (from Augmentor) (0.16.0)\n",
            "Installing collected packages: Augmentor\n",
            "Successfully installed Augmentor-0.2.10\n"
          ]
        }
      ],
      "source": [
        "!pip3 install Augmentor"
      ]
    },
    {
      "cell_type": "code",
      "execution_count": null,
      "metadata": {
        "id": "wLB2LJudOX8J"
      },
      "outputs": [],
      "source": [
        "import Augmentor\n",
        "import numpy as np\n",
        "import os\n",
        "import glob\n",
        "import random\n",
        "import collections\n",
        "from PIL import Image\n",
        "\n",
        "random.seed(0)"
      ]
    },
    {
      "cell_type": "code",
      "execution_count": null,
      "metadata": {
        "colab": {
          "base_uri": "https://localhost:8080/"
        },
        "id": "-AV0PlwKd0Jo",
        "outputId": "6f24705a-85ec-4484-f753-fb8d61f2211d"
      },
      "outputs": [
        {
          "output_type": "stream",
          "name": "stdout",
          "text": [
            "Mounted at /content/drive\n"
          ]
        }
      ],
      "source": [
        "from google.colab import drive\n",
        "drive.mount('/content/drive')"
      ]
    },
    {
      "cell_type": "markdown",
      "metadata": {
        "id": "a2ogfJYAOX8M"
      },
      "source": [
        "## 1. Point to a Root Directory\n",
        "\n",
        "Your root directory must contain subdirectories, one for each class in your machine learning classification problem:"
      ]
    },
    {
      "cell_type": "code",
      "execution_count": null,
      "metadata": {
        "collapsed": true,
        "id": "idCiPTFQOX8N"
      },
      "outputs": [],
      "source": [
        "root_directory = \"drive/MyDrive/Ternaus/train/1\""
      ]
    },
    {
      "cell_type": "markdown",
      "metadata": {
        "id": "R_6ZnBK_OX8N"
      },
      "source": [
        "## 2. Scan for folders in the root directory\n",
        "\n",
        "We use `glob.glob()` to scan for all files in the `root_directory` and only choose those that are directories. These will be out classes:"
      ]
    },
    {
      "cell_type": "code",
      "execution_count": null,
      "metadata": {
        "colab": {
          "base_uri": "https://localhost:8080/"
        },
        "id": "xs4kZMTzcMmG",
        "outputId": "33c77ab5-7683-421a-9a69-9d9b546bd021"
      },
      "outputs": [
        {
          "output_type": "stream",
          "name": "stdout",
          "text": [
            "Initialised with 543 image(s) found.\n",
            "Output directory set to drive/MyDrive/Ternaus/train/1/output."
          ]
        }
      ],
      "source": [
        "p = Augmentor.Pipeline(root_directory)"
      ]
    },
    {
      "cell_type": "code",
      "execution_count": null,
      "metadata": {
        "id": "PB4HTTrqe0vl"
      },
      "outputs": [],
      "source": [
        "p.flip_top_bottom(probability=0.1)\n",
        "p.flip_top_bottom(probability=0.4)\n",
        "p.rotate(probability=0.3, max_left_rotation=5, max_right_rotation=5)\n",
        "p.zoom(probability=0.3, min_factor=1.1, max_factor=1.6)\n",
        "p.rotate(probability=0.7, max_left_rotation=10, max_right_rotation=10)\n",
        "p.flip_left_right(probability=0.1)\n",
        "p.flip_left_right(probability=0.4)\n",
        "p.rotate(probability=1.0, max_left_rotation=5, max_right_rotation=10)"
      ]
    },
    {
      "cell_type": "code",
      "execution_count": null,
      "metadata": {
        "colab": {
          "base_uri": "https://localhost:8080/"
        },
        "id": "KkkKi9Ake8_m",
        "outputId": "48c4176c-016c-44db-8555-f9c4bc6debd1"
      },
      "outputs": [
        {
          "output_type": "stream",
          "name": "stdout",
          "text": [
            "Operations: 8\n",
            "\t0: Flip (probability=0.1 top_bottom_left_right=TOP_BOTTOM )\n",
            "\t1: Flip (probability=0.4 top_bottom_left_right=TOP_BOTTOM )\n",
            "\t2: RotateRange (probability=0.3 max_left_rotation=-5 max_right_rotation=5 )\n",
            "\t3: Zoom (probability=0.3 min_factor=1.1 max_factor=1.6 )\n",
            "\t4: RotateRange (probability=0.7 max_left_rotation=-10 max_right_rotation=10 )\n",
            "\t5: Flip (probability=0.1 top_bottom_left_right=LEFT_RIGHT )\n",
            "\t6: Flip (probability=0.4 top_bottom_left_right=LEFT_RIGHT )\n",
            "\t7: RotateRange (probability=1.0 max_left_rotation=-5 max_right_rotation=10 )\n",
            "Images: 1475\n",
            "Classes: 1\n",
            "\tClass index: 0 Class label: 8 \n",
            "Dimensions: 1\n",
            "\tWidth: 28 Height: 28\n",
            "Formats: 1\n",
            "\t JPEG\n",
            "\n",
            "You can remove operations using the appropriate index and the remove_operation(index) function.\n"
          ]
        }
      ],
      "source": [
        "p.status()"
      ]
    },
    {
      "cell_type": "code",
      "execution_count": null,
      "metadata": {
        "colab": {
          "base_uri": "https://localhost:8080/"
        },
        "id": "WKqcHB4YhrkN",
        "outputId": "81307236-8615-43d1-dfeb-a6cdd8c49e9c"
      },
      "outputs": [
        {
          "output_type": "stream",
          "name": "stderr",
          "text": [
            "Processing <PIL.Image.Image image mode=L size=28x28 at 0x7F9DC4487350>: 100%|██████████| 10000/10000 [03:02<00:00, 54.93 Samples/s]\n"
          ]
        }
      ],
      "source": [
        "p.sample(10000)"
      ]
    },
    {
      "cell_type": "code",
      "execution_count": null,
      "metadata": {
        "id": "YSnKKGvmt4wW",
        "colab": {
          "base_uri": "https://localhost:8080/",
          "height": 417
        },
        "outputId": "5d726789-2365-4bb8-d054-66e67167e8a5"
      },
      "outputs": [
        {
          "output_type": "stream",
          "name": "stdout",
          "text": [
            "0\n",
            "Initialised with 1000 image(s) found.\n",
            "Output directory set to drive/MyDrive/Fashion MNIST/data_fashion/test/0/output."
          ]
        },
        {
          "output_type": "stream",
          "name": "stderr",
          "text": [
            "Processing <PIL.Image.Image image mode=L size=28x28 at 0x7F4CD99B7110>:   8%|▊         | 981/12000 [00:17<03:16, 56.19 Samples/s]\n"
          ]
        },
        {
          "output_type": "error",
          "ename": "KeyboardInterrupt",
          "evalue": "ignored",
          "traceback": [
            "\u001b[0;31m---------------------------------------------------------------------------\u001b[0m",
            "\u001b[0;31mKeyboardInterrupt\u001b[0m                         Traceback (most recent call last)",
            "\u001b[0;32m<ipython-input-11-95190ca15b42>\u001b[0m in \u001b[0;36m<module>\u001b[0;34m\u001b[0m\n\u001b[1;32m     12\u001b[0m   \u001b[0mp\u001b[0m\u001b[0;34m.\u001b[0m\u001b[0mflip_left_right\u001b[0m\u001b[0;34m(\u001b[0m\u001b[0mprobability\u001b[0m\u001b[0;34m=\u001b[0m\u001b[0;36m0.4\u001b[0m\u001b[0;34m)\u001b[0m\u001b[0;34m\u001b[0m\u001b[0;34m\u001b[0m\u001b[0m\n\u001b[1;32m     13\u001b[0m   \u001b[0mp\u001b[0m\u001b[0;34m.\u001b[0m\u001b[0mrotate\u001b[0m\u001b[0;34m(\u001b[0m\u001b[0mprobability\u001b[0m\u001b[0;34m=\u001b[0m\u001b[0;36m1.0\u001b[0m\u001b[0;34m,\u001b[0m \u001b[0mmax_left_rotation\u001b[0m\u001b[0;34m=\u001b[0m\u001b[0;36m5\u001b[0m\u001b[0;34m,\u001b[0m \u001b[0mmax_right_rotation\u001b[0m\u001b[0;34m=\u001b[0m\u001b[0;36m10\u001b[0m\u001b[0;34m)\u001b[0m\u001b[0;34m\u001b[0m\u001b[0;34m\u001b[0m\u001b[0m\n\u001b[0;32m---> 14\u001b[0;31m   \u001b[0mp\u001b[0m\u001b[0;34m.\u001b[0m\u001b[0msample\u001b[0m\u001b[0;34m(\u001b[0m\u001b[0;36m12000\u001b[0m\u001b[0;34m)\u001b[0m\u001b[0;34m\u001b[0m\u001b[0;34m\u001b[0m\u001b[0m\n\u001b[0m",
            "\u001b[0;32m/usr/local/lib/python3.7/dist-packages/Augmentor/Pipeline.py\u001b[0m in \u001b[0;36msample\u001b[0;34m(self, n, multi_threaded)\u001b[0m\n\u001b[1;32m    362\u001b[0m             \u001b[0;32mwith\u001b[0m \u001b[0mtqdm\u001b[0m\u001b[0;34m(\u001b[0m\u001b[0mtotal\u001b[0m\u001b[0;34m=\u001b[0m\u001b[0mlen\u001b[0m\u001b[0;34m(\u001b[0m\u001b[0maugmentor_images\u001b[0m\u001b[0;34m)\u001b[0m\u001b[0;34m,\u001b[0m \u001b[0mdesc\u001b[0m\u001b[0;34m=\u001b[0m\u001b[0;34m\"Executing Pipeline\"\u001b[0m\u001b[0;34m,\u001b[0m \u001b[0munit\u001b[0m\u001b[0;34m=\u001b[0m\u001b[0;34m\" Samples\"\u001b[0m\u001b[0;34m)\u001b[0m \u001b[0;32mas\u001b[0m \u001b[0mprogress_bar\u001b[0m\u001b[0;34m:\u001b[0m\u001b[0;34m\u001b[0m\u001b[0;34m\u001b[0m\u001b[0m\n\u001b[1;32m    363\u001b[0m                 \u001b[0;32mwith\u001b[0m \u001b[0mThreadPoolExecutor\u001b[0m\u001b[0;34m(\u001b[0m\u001b[0mmax_workers\u001b[0m\u001b[0;34m=\u001b[0m\u001b[0;32mNone\u001b[0m\u001b[0;34m)\u001b[0m \u001b[0;32mas\u001b[0m \u001b[0mexecutor\u001b[0m\u001b[0;34m:\u001b[0m\u001b[0;34m\u001b[0m\u001b[0;34m\u001b[0m\u001b[0m\n\u001b[0;32m--> 364\u001b[0;31m                     \u001b[0;32mfor\u001b[0m \u001b[0mresult\u001b[0m \u001b[0;32min\u001b[0m \u001b[0mexecutor\u001b[0m\u001b[0;34m.\u001b[0m\u001b[0mmap\u001b[0m\u001b[0;34m(\u001b[0m\u001b[0mself\u001b[0m\u001b[0;34m,\u001b[0m \u001b[0maugmentor_images\u001b[0m\u001b[0;34m)\u001b[0m\u001b[0;34m:\u001b[0m\u001b[0;34m\u001b[0m\u001b[0;34m\u001b[0m\u001b[0m\n\u001b[0m\u001b[1;32m    365\u001b[0m                         \u001b[0mprogress_bar\u001b[0m\u001b[0;34m.\u001b[0m\u001b[0mset_description\u001b[0m\u001b[0;34m(\u001b[0m\u001b[0;34m\"Processing %s\"\u001b[0m \u001b[0;34m%\u001b[0m \u001b[0mresult\u001b[0m\u001b[0;34m)\u001b[0m\u001b[0;34m\u001b[0m\u001b[0;34m\u001b[0m\u001b[0m\n\u001b[1;32m    366\u001b[0m                         \u001b[0mprogress_bar\u001b[0m\u001b[0;34m.\u001b[0m\u001b[0mupdate\u001b[0m\u001b[0;34m(\u001b[0m\u001b[0;36m1\u001b[0m\u001b[0;34m)\u001b[0m\u001b[0;34m\u001b[0m\u001b[0;34m\u001b[0m\u001b[0m\n",
            "\u001b[0;32m/usr/lib/python3.7/concurrent/futures/_base.py\u001b[0m in \u001b[0;36mresult_iterator\u001b[0;34m()\u001b[0m\n\u001b[1;32m    596\u001b[0m                     \u001b[0;31m# Careful not to keep a reference to the popped future\u001b[0m\u001b[0;34m\u001b[0m\u001b[0;34m\u001b[0m\u001b[0;34m\u001b[0m\u001b[0m\n\u001b[1;32m    597\u001b[0m                     \u001b[0;32mif\u001b[0m \u001b[0mtimeout\u001b[0m \u001b[0;32mis\u001b[0m \u001b[0;32mNone\u001b[0m\u001b[0;34m:\u001b[0m\u001b[0;34m\u001b[0m\u001b[0;34m\u001b[0m\u001b[0m\n\u001b[0;32m--> 598\u001b[0;31m                         \u001b[0;32myield\u001b[0m \u001b[0mfs\u001b[0m\u001b[0;34m.\u001b[0m\u001b[0mpop\u001b[0m\u001b[0;34m(\u001b[0m\u001b[0;34m)\u001b[0m\u001b[0;34m.\u001b[0m\u001b[0mresult\u001b[0m\u001b[0;34m(\u001b[0m\u001b[0;34m)\u001b[0m\u001b[0;34m\u001b[0m\u001b[0;34m\u001b[0m\u001b[0m\n\u001b[0m\u001b[1;32m    599\u001b[0m                     \u001b[0;32melse\u001b[0m\u001b[0;34m:\u001b[0m\u001b[0;34m\u001b[0m\u001b[0;34m\u001b[0m\u001b[0m\n\u001b[1;32m    600\u001b[0m                         \u001b[0;32myield\u001b[0m \u001b[0mfs\u001b[0m\u001b[0;34m.\u001b[0m\u001b[0mpop\u001b[0m\u001b[0;34m(\u001b[0m\u001b[0;34m)\u001b[0m\u001b[0;34m.\u001b[0m\u001b[0mresult\u001b[0m\u001b[0;34m(\u001b[0m\u001b[0mend_time\u001b[0m \u001b[0;34m-\u001b[0m \u001b[0mtime\u001b[0m\u001b[0;34m.\u001b[0m\u001b[0mmonotonic\u001b[0m\u001b[0;34m(\u001b[0m\u001b[0;34m)\u001b[0m\u001b[0;34m)\u001b[0m\u001b[0;34m\u001b[0m\u001b[0;34m\u001b[0m\u001b[0m\n",
            "\u001b[0;32m/usr/lib/python3.7/concurrent/futures/_base.py\u001b[0m in \u001b[0;36mresult\u001b[0;34m(self, timeout)\u001b[0m\n\u001b[1;32m    428\u001b[0m                 \u001b[0;32mreturn\u001b[0m \u001b[0mself\u001b[0m\u001b[0;34m.\u001b[0m\u001b[0m__get_result\u001b[0m\u001b[0;34m(\u001b[0m\u001b[0;34m)\u001b[0m\u001b[0;34m\u001b[0m\u001b[0;34m\u001b[0m\u001b[0m\n\u001b[1;32m    429\u001b[0m \u001b[0;34m\u001b[0m\u001b[0m\n\u001b[0;32m--> 430\u001b[0;31m             \u001b[0mself\u001b[0m\u001b[0;34m.\u001b[0m\u001b[0m_condition\u001b[0m\u001b[0;34m.\u001b[0m\u001b[0mwait\u001b[0m\u001b[0;34m(\u001b[0m\u001b[0mtimeout\u001b[0m\u001b[0;34m)\u001b[0m\u001b[0;34m\u001b[0m\u001b[0;34m\u001b[0m\u001b[0m\n\u001b[0m\u001b[1;32m    431\u001b[0m \u001b[0;34m\u001b[0m\u001b[0m\n\u001b[1;32m    432\u001b[0m             \u001b[0;32mif\u001b[0m \u001b[0mself\u001b[0m\u001b[0;34m.\u001b[0m\u001b[0m_state\u001b[0m \u001b[0;32min\u001b[0m \u001b[0;34m[\u001b[0m\u001b[0mCANCELLED\u001b[0m\u001b[0;34m,\u001b[0m \u001b[0mCANCELLED_AND_NOTIFIED\u001b[0m\u001b[0;34m]\u001b[0m\u001b[0;34m:\u001b[0m\u001b[0;34m\u001b[0m\u001b[0;34m\u001b[0m\u001b[0m\n",
            "\u001b[0;32m/usr/lib/python3.7/threading.py\u001b[0m in \u001b[0;36mwait\u001b[0;34m(self, timeout)\u001b[0m\n\u001b[1;32m    294\u001b[0m         \u001b[0;32mtry\u001b[0m\u001b[0;34m:\u001b[0m    \u001b[0;31m# restore state no matter what (e.g., KeyboardInterrupt)\u001b[0m\u001b[0;34m\u001b[0m\u001b[0;34m\u001b[0m\u001b[0m\n\u001b[1;32m    295\u001b[0m             \u001b[0;32mif\u001b[0m \u001b[0mtimeout\u001b[0m \u001b[0;32mis\u001b[0m \u001b[0;32mNone\u001b[0m\u001b[0;34m:\u001b[0m\u001b[0;34m\u001b[0m\u001b[0;34m\u001b[0m\u001b[0m\n\u001b[0;32m--> 296\u001b[0;31m                 \u001b[0mwaiter\u001b[0m\u001b[0;34m.\u001b[0m\u001b[0macquire\u001b[0m\u001b[0;34m(\u001b[0m\u001b[0;34m)\u001b[0m\u001b[0;34m\u001b[0m\u001b[0;34m\u001b[0m\u001b[0m\n\u001b[0m\u001b[1;32m    297\u001b[0m                 \u001b[0mgotit\u001b[0m \u001b[0;34m=\u001b[0m \u001b[0;32mTrue\u001b[0m\u001b[0;34m\u001b[0m\u001b[0;34m\u001b[0m\u001b[0m\n\u001b[1;32m    298\u001b[0m             \u001b[0;32melse\u001b[0m\u001b[0;34m:\u001b[0m\u001b[0;34m\u001b[0m\u001b[0;34m\u001b[0m\u001b[0m\n",
            "\u001b[0;31mKeyboardInterrupt\u001b[0m: "
          ]
        }
      ],
      "source": [
        "i = 0\n",
        "for i in range(11):\n",
        "  print(i)\n",
        "  root_directory = f\"drive/MyDrive/Fashion MNIST/data_fashion/test/{i}\"\n",
        "  p = Augmentor.Pipeline(root_directory)\n",
        "  p.flip_top_bottom(probability=0.1)\n",
        "  p.flip_top_bottom(probability=0.4)\n",
        "  p.rotate(probability=0.3, max_left_rotation=5, max_right_rotation=5)\n",
        "  p.zoom(probability=0.3, min_factor=1.1, max_factor=1.6)\n",
        "  p.rotate(probability=0.7, max_left_rotation=10, max_right_rotation=10)\n",
        "  p.flip_left_right(probability=0.1)\n",
        "  p.flip_left_right(probability=0.4)\n",
        "  p.rotate(probability=1.0, max_left_rotation=5, max_right_rotation=10)\n",
        "  p.sample(12000)"
      ]
    },
    {
      "cell_type": "code",
      "execution_count": null,
      "metadata": {
        "colab": {
          "base_uri": "https://localhost:8080/"
        },
        "id": "seZ7b69JlJ6n",
        "outputId": "8da98921-f2a0-4230-9b14-481eab58d9c3"
      },
      "outputs": [
        {
          "name": "stdout",
          "output_type": "stream",
          "text": [
            "Initialised with 10000 image(s) found.\n",
            "Output directory set to drive/MyDrive/Fashion MNIST/data_fashion/train/1/output/output."
          ]
        }
      ],
      "source": [
        "root_directory = \"drive/MyDrive/Fashion MNIST/data_fashion/train/1/output\"\n",
        "p = Augmentor.Pipeline(root_directory)"
      ]
    },
    {
      "cell_type": "code",
      "execution_count": null,
      "metadata": {
        "colab": {
          "base_uri": "https://localhost:8080/"
        },
        "id": "b8ap_XaWOX8O",
        "outputId": "7297a8b8-2e6f-4c09-d7fa-2c44f2d080f0"
      },
      "outputs": [
        {
          "name": "stdout",
          "output_type": "stream",
          "text": [
            "Folders (classes) found: ['0', '1', '2', '3', '4', '5', '6', '7', '8', '9'] \n"
          ]
        }
      ],
      "source": [
        "folders = []\n",
        "for f in glob.glob(root_directory):\n",
        "    if os.path.isdir(f):\n",
        "        folders.append(os.path.abspath(f))\n",
        "\n",
        "print(\"Folders (classes) found: %s \" % [os.path.split(x)[1] for x in folders])"
      ]
    },
    {
      "cell_type": "markdown",
      "metadata": {
        "id": "9jEK1pGZOX8P"
      },
      "source": [
        "## 3. Create a pipeline for each class\n",
        "\n",
        "Now we create a pipeline object for each of the classes. MNIST consists of 10 digits, and each digit represents one class:"
      ]
    },
    {
      "cell_type": "code",
      "execution_count": null,
      "metadata": {
        "colab": {
          "base_uri": "https://localhost:8080/"
        },
        "id": "9dbVgJAKOX8Q",
        "outputId": "93e43bff-7b0c-43b9-d895-156f9d8ffcaf"
      },
      "outputs": [
        {
          "name": "stdout",
          "output_type": "stream",
          "text": [
            "Folder /content/drive/MyDrive/Fashion MNIST/data_fashion/train/0:\n",
            "Initialised with 1425 image(s) found.\n",
            "Output directory set to /content/drive/MyDrive/Fashion MNIST/data_fashion/train/0/output.\n",
            "----------------------------\n",
            "\n",
            "Folder /content/drive/MyDrive/Fashion MNIST/data_fashion/train/1:\n",
            "Initialised with 1525 image(s) found.\n",
            "Output directory set to /content/drive/MyDrive/Fashion MNIST/data_fashion/train/1/output.\n",
            "----------------------------\n",
            "\n",
            "Folder /content/drive/MyDrive/Fashion MNIST/data_fashion/train/2:\n",
            "Initialised with 1475 image(s) found.\n",
            "Output directory set to /content/drive/MyDrive/Fashion MNIST/data_fashion/train/2/output.\n",
            "----------------------------\n",
            "\n",
            "Folder /content/drive/MyDrive/Fashion MNIST/data_fashion/train/3:\n",
            "Initialised with 1485 image(s) found.\n",
            "Output directory set to /content/drive/MyDrive/Fashion MNIST/data_fashion/train/3/output.\n",
            "----------------------------\n",
            "\n",
            "Folder /content/drive/MyDrive/Fashion MNIST/data_fashion/train/4:\n",
            "Initialised with 1470 image(s) found.\n",
            "Output directory set to /content/drive/MyDrive/Fashion MNIST/data_fashion/train/4/output.\n",
            "----------------------------\n",
            "\n",
            "Folder /content/drive/MyDrive/Fashion MNIST/data_fashion/train/5:\n",
            "Initialised with 1479 image(s) found.\n",
            "Output directory set to /content/drive/MyDrive/Fashion MNIST/data_fashion/train/5/output.\n",
            "----------------------------\n",
            "\n",
            "Folder /content/drive/MyDrive/Fashion MNIST/data_fashion/train/6:\n",
            "Initialised with 1536 image(s) found.\n",
            "Output directory set to /content/drive/MyDrive/Fashion MNIST/data_fashion/train/6/output.\n",
            "----------------------------\n",
            "\n",
            "Folder /content/drive/MyDrive/Fashion MNIST/data_fashion/train/7:\n",
            "Initialised with 1475 image(s) found.\n",
            "Output directory set to /content/drive/MyDrive/Fashion MNIST/data_fashion/train/7/output.\n",
            "----------------------------\n",
            "\n",
            "Folder /content/drive/MyDrive/Fashion MNIST/data_fashion/train/8:\n",
            "Initialised with 1475 image(s) found.\n",
            "Output directory set to /content/drive/MyDrive/Fashion MNIST/data_fashion/train/8/output.\n",
            "----------------------------\n",
            "\n",
            "Folder /content/drive/MyDrive/Fashion MNIST/data_fashion/train/9:\n",
            "Initialised with 1521 image(s) found.\n",
            "Output directory set to /content/drive/MyDrive/Fashion MNIST/data_fashion/train/9/output.\n",
            "----------------------------\n",
            "\n"
          ]
        }
      ],
      "source": [
        "pipelines = {}\n",
        "for folder in folders:\n",
        "    print(\"Folder %s:\" % (folder))\n",
        "    pipelines[os.path.split(folder)[1]] = (Augmentor.Pipeline(folder))\n",
        "    print(\"\\n----------------------------\\n\")"
      ]
    },
    {
      "cell_type": "markdown",
      "metadata": {
        "id": "LAz-MLN5OX8S"
      },
      "source": [
        "We can summarise what was scanned:"
      ]
    },
    {
      "cell_type": "code",
      "execution_count": null,
      "metadata": {
        "colab": {
          "base_uri": "https://localhost:8080/"
        },
        "id": "sxBMgRxFOX8T",
        "outputId": "f7130213-6fbd-4e42-c6ae-ce2074af4bb3"
      },
      "outputs": [
        {
          "name": "stdout",
          "output_type": "stream",
          "text": [
            "Class 0 has 1425 samples.\n",
            "Class 1 has 1525 samples.\n",
            "Class 2 has 1475 samples.\n",
            "Class 3 has 1485 samples.\n",
            "Class 4 has 1470 samples.\n",
            "Class 5 has 1479 samples.\n",
            "Class 6 has 1536 samples.\n",
            "Class 7 has 1475 samples.\n",
            "Class 8 has 1475 samples.\n",
            "Class 9 has 1521 samples.\n"
          ]
        }
      ],
      "source": [
        "for p in pipelines.values():\n",
        "    print(\"Class %s has %s samples.\" % (p.augmentor_images[0].class_label, len(p.augmentor_images)))"
      ]
    },
    {
      "cell_type": "markdown",
      "metadata": {
        "id": "4K_MH49NOX8U"
      },
      "source": [
        "## 4. Add operations to the pipelines\n",
        "\n",
        "Here we will add operations to each of the pipelines. Some operations will be applied to all pipelines, others only to some pipelines.\n",
        "\n",
        "Here we add a rotate operation to all pipelines (and hence will be applied to all digits):"
      ]
    },
    {
      "cell_type": "code",
      "execution_count": null,
      "metadata": {
        "colab": {
          "base_uri": "https://localhost:8080/"
        },
        "id": "dagZoClVQaQt",
        "outputId": "1d584fd0-602d-4b5f-f33e-130563a58f67"
      },
      "outputs": [
        {
          "data": {
            "text/plain": [
              "{'0': <Augmentor.Pipeline.Pipeline at 0x7f797c1f4c10>,\n",
              " '1': <Augmentor.Pipeline.Pipeline at 0x7f797c0db9d0>,\n",
              " '2': <Augmentor.Pipeline.Pipeline at 0x7f797bf74690>,\n",
              " '3': <Augmentor.Pipeline.Pipeline at 0x7f797bed1110>,\n",
              " '4': <Augmentor.Pipeline.Pipeline at 0x7f7982e6e090>,\n",
              " '5': <Augmentor.Pipeline.Pipeline at 0x7f797bd11cd0>,\n",
              " '6': <Augmentor.Pipeline.Pipeline at 0x7f797bbf1cd0>,\n",
              " '7': <Augmentor.Pipeline.Pipeline at 0x7f797bbf1f50>,\n",
              " '8': <Augmentor.Pipeline.Pipeline at 0x7f797ba3a510>,\n",
              " '9': <Augmentor.Pipeline.Pipeline at 0x7f797b999710>}"
            ]
          },
          "execution_count": 10,
          "metadata": {},
          "output_type": "execute_result"
        }
      ],
      "source": [
        "pipelines"
      ]
    },
    {
      "cell_type": "code",
      "execution_count": null,
      "metadata": {
        "collapsed": true,
        "id": "0zDSR0S7OX8V"
      },
      "outputs": [],
      "source": [
        "for pipeline in pipelines.values():\n",
        "    pipeline.rotate(probability=0.5, max_left_rotation=5, max_right_rotation=5)"
      ]
    },
    {
      "cell_type": "markdown",
      "metadata": {
        "id": "gOgpzv8WOX8V"
      },
      "source": [
        "Here we add some operations that we only want to apply to certain classes. The figure 8 can be flipped horizontally and vertically:"
      ]
    },
    {
      "cell_type": "code",
      "execution_count": null,
      "metadata": {
        "collapsed": true,
        "id": "sxAc2Aj_OX8V"
      },
      "outputs": [],
      "source": [
        "pipelines[\"8\"].flip_top_bottom(probability=0.5)\n",
        "pipelines[\"8\"].flip_left_right(probability=0.5)"
      ]
    },
    {
      "cell_type": "markdown",
      "metadata": {
        "id": "Th0WbUHgOX8W"
      },
      "source": [
        "While the figure 3 can only be flipped vertically:"
      ]
    },
    {
      "cell_type": "code",
      "execution_count": null,
      "metadata": {
        "collapsed": true,
        "id": "TB88K0KZOX8X"
      },
      "outputs": [],
      "source": [
        "pipelines[\"3\"].flip_top_bottom(probability=0.5)"
      ]
    },
    {
      "cell_type": "markdown",
      "metadata": {
        "id": "jltuUAupOX8X"
      },
      "source": [
        "## 5. Define a class label / class integer map\n",
        "\n",
        "The classes will have string labels associated with them, depending on the name of each class's parent folder. Here you must map the names of each of your classes with the 0-based index (which must correspond to the test data of your dataset).\n",
        "\n",
        "In the case of MNIST this is quite easy, the samples for the digit 0 were stored in a folder 0 and have the text label 0, and so on:"
      ]
    },
    {
      "cell_type": "code",
      "execution_count": null,
      "metadata": {
        "collapsed": true,
        "id": "tkDzuRhYOX8Y"
      },
      "outputs": [],
      "source": [
        "integer_labels = {'0': 0, \n",
        "                  '1': 1, \n",
        "                  '2': 2, \n",
        "                  '3': 3, \n",
        "                  '4': 4, \n",
        "                  '5': 5, \n",
        "                  '6': 6, \n",
        "                  '7': 7, \n",
        "                  '8': 8, \n",
        "                  '9': 9,\n",
        "                  '10': 10}"
      ]
    },
    {
      "cell_type": "markdown",
      "metadata": {
        "id": "nrOs5-POOX8Z"
      },
      "source": [
        "## 6. Define pipeline containers to store the pipelines and additional information\n",
        "\n",
        "Later we will need each pipeline's 0-based integer label as well as its categorical label (depending on the type of neural network you define):"
      ]
    },
    {
      "cell_type": "code",
      "execution_count": null,
      "metadata": {
        "colab": {
          "base_uri": "https://localhost:8080/"
        },
        "collapsed": true,
        "id": "Zq5sUnfROX8Z",
        "outputId": "a130cf0d-81c2-4fcd-ef7e-cfa01e228f56"
      },
      "outputs": [
        {
          "name": "stderr",
          "output_type": "stream",
          "text": [
            "/usr/local/lib/python3.7/dist-packages/ipykernel_launcher.py:7: DeprecationWarning: `np.int` is a deprecated alias for the builtin `int`. To silence this warning, use `int` by itself. Doing this will not modify any behavior and is safe. When replacing `np.int`, you may wish to use e.g. `np.int64` or `np.int32` to specify the precision. If you wish to review your current use, check the release note link for additional information.\n",
            "Deprecated in NumPy 1.20; for more details and guidance: https://numpy.org/devdocs/release/1.20.0-notes.html#deprecations\n",
            "  import sys\n"
          ]
        }
      ],
      "source": [
        "PipelineContainer = collections.namedtuple('PipelineContainer', \n",
        "                                           'label label_integer label_categorical pipeline generator')\n",
        "\n",
        "pipeline_containers = []\n",
        "\n",
        "for label, pipeline in pipelines.items():\n",
        "    label_categorical = np.zeros(len(pipelines), dtype=np.int)\n",
        "    label_categorical[integer_labels[label]] = 1\n",
        "    pipeline_containers.append(PipelineContainer(label, \n",
        "                                                 integer_labels[label], \n",
        "                                                 label_categorical, \n",
        "                                                 pipeline, \n",
        "                                                 pipeline.keras_generator(batch_size=1)))"
      ]
    },
    {
      "cell_type": "markdown",
      "metadata": {
        "id": "iJ70E4C-OX8a"
      },
      "source": [
        "## 7. Define a generator function\n",
        "\n",
        "Neural networks in Keras can be supplied with a generator to supply training data. Because we have one generator for each pipeline, we need to create \"generator of generators\":"
      ]
    },
    {
      "cell_type": "code",
      "execution_count": null,
      "metadata": {
        "id": "CHonwoG3OX8b"
      },
      "outputs": [],
      "source": [
        "def multi_generator(pipeline_containers, batch_size):\n",
        "    while True:\n",
        "        X = []\n",
        "        y = []\n",
        "        for i in range(batch_size):\n",
        "            pipeline_container = random.choice(pipeline_containers)\n",
        "            image, _ = next(pipeline_container.generator)\n",
        "            image = image.reshape((28,28,1)) # Or (1, 28, 28) for channels_first, see Keras' docs.\n",
        "            X.append(image)\n",
        "            y.append(pipeline_container.label_categorical)  # Or label_integer if required by network\n",
        "        X = np.asarray(X)\n",
        "        y = np.asarray(y)\n",
        "        yield X, y"
      ]
    },
    {
      "cell_type": "code",
      "execution_count": null,
      "metadata": {
        "colab": {
          "base_uri": "https://localhost:8080/"
        },
        "id": "SVM9qWhKRJwk",
        "outputId": "7e15348b-d36e-4540-e082-df84e6904250"
      },
      "outputs": [
        {
          "name": "stdout",
          "output_type": "stream",
          "text": [
            "Class 0 has 1425 samples.\n",
            "Class 1 has 1525 samples.\n",
            "Class 2 has 1475 samples.\n",
            "Class 3 has 1485 samples.\n",
            "Class 4 has 1470 samples.\n",
            "Class 5 has 1479 samples.\n",
            "Class 6 has 1536 samples.\n",
            "Class 7 has 1475 samples.\n",
            "Class 8 has 1475 samples.\n",
            "Class 9 has 1521 samples.\n"
          ]
        }
      ],
      "source": [
        "for p in pipelines.values():\n",
        "    print(\"Class %s has %s samples.\" % (p.augmentor_images[0].class_label, len(p.augmentor_images)))"
      ]
    },
    {
      "cell_type": "markdown",
      "metadata": {
        "id": "pvPKaXQMOX8b"
      },
      "source": [
        "## 8. Create the generator object\n",
        "\n",
        "Create a generator, `g` to pass data randomly from each pipeline (and hence each class) to a neural network:"
      ]
    },
    {
      "cell_type": "code",
      "execution_count": null,
      "metadata": {
        "collapsed": true,
        "id": "8O4sIl_EOX8c"
      },
      "outputs": [],
      "source": [
        "batch_size = 128\n",
        "\n",
        "g = multi_generator(pipeline_containers=pipeline_containers, \n",
        "                    batch_size=batch_size)  # Here the batch size can be set to any value"
      ]
    },
    {
      "cell_type": "markdown",
      "metadata": {
        "id": "dC_HImk1OX8c"
      },
      "source": [
        "To generate a batch of 128 images and labels, at random from a random pipeline defined above, we can use the `next()` function:"
      ]
    },
    {
      "cell_type": "code",
      "execution_count": null,
      "metadata": {
        "id": "xDKADinhOX8d"
      },
      "outputs": [],
      "source": [
        "X, y = next(g)"
      ]
    },
    {
      "cell_type": "code",
      "execution_count": null,
      "metadata": {
        "colab": {
          "base_uri": "https://localhost:8080/"
        },
        "id": "Yd5zP4hXQmKO",
        "outputId": "51c3fb5a-edd0-49d3-b682-0e9df379d2fc"
      },
      "outputs": [
        {
          "data": {
            "text/plain": [
              "array([[[[0.        ],\n",
              "         [0.        ],\n",
              "         [0.        ],\n",
              "         ...,\n",
              "         [0.        ],\n",
              "         [0.        ],\n",
              "         [0.        ]],\n",
              "\n",
              "        [[0.00784314],\n",
              "         [0.        ],\n",
              "         [0.01960784],\n",
              "         ...,\n",
              "         [0.        ],\n",
              "         [0.        ],\n",
              "         [0.        ]],\n",
              "\n",
              "        [[0.01176471],\n",
              "         [0.00392157],\n",
              "         [0.01568628],\n",
              "         ...,\n",
              "         [0.        ],\n",
              "         [0.        ],\n",
              "         [0.        ]],\n",
              "\n",
              "        ...,\n",
              "\n",
              "        [[0.        ],\n",
              "         [0.        ],\n",
              "         [0.        ],\n",
              "         ...,\n",
              "         [0.        ],\n",
              "         [0.        ],\n",
              "         [0.        ]],\n",
              "\n",
              "        [[0.        ],\n",
              "         [0.        ],\n",
              "         [0.        ],\n",
              "         ...,\n",
              "         [0.        ],\n",
              "         [0.        ],\n",
              "         [0.        ]],\n",
              "\n",
              "        [[0.        ],\n",
              "         [0.        ],\n",
              "         [0.        ],\n",
              "         ...,\n",
              "         [0.        ],\n",
              "         [0.        ],\n",
              "         [0.        ]]],\n",
              "\n",
              "\n",
              "       [[[0.        ],\n",
              "         [0.00392157],\n",
              "         [0.00784314],\n",
              "         ...,\n",
              "         [0.        ],\n",
              "         [0.        ],\n",
              "         [0.        ]],\n",
              "\n",
              "        [[0.02352941],\n",
              "         [0.        ],\n",
              "         [0.        ],\n",
              "         ...,\n",
              "         [0.        ],\n",
              "         [0.        ],\n",
              "         [0.        ]],\n",
              "\n",
              "        [[0.00784314],\n",
              "         [0.01176471],\n",
              "         [0.01176471],\n",
              "         ...,\n",
              "         [0.00392157],\n",
              "         [0.        ],\n",
              "         [0.        ]],\n",
              "\n",
              "        ...,\n",
              "\n",
              "        [[0.00784314],\n",
              "         [0.        ],\n",
              "         [0.34509805],\n",
              "         ...,\n",
              "         [0.10980392],\n",
              "         [0.        ],\n",
              "         [0.00392157]],\n",
              "\n",
              "        [[0.07843138],\n",
              "         [0.00392157],\n",
              "         [0.03921569],\n",
              "         ...,\n",
              "         [0.09803922],\n",
              "         [0.        ],\n",
              "         [0.        ]],\n",
              "\n",
              "        [[0.00784314],\n",
              "         [0.03529412],\n",
              "         [0.        ],\n",
              "         ...,\n",
              "         [0.02745098],\n",
              "         [0.01568628],\n",
              "         [0.00392157]]],\n",
              "\n",
              "\n",
              "       [[[0.        ],\n",
              "         [0.        ],\n",
              "         [0.        ],\n",
              "         ...,\n",
              "         [0.        ],\n",
              "         [0.        ],\n",
              "         [0.        ]],\n",
              "\n",
              "        [[0.00784314],\n",
              "         [0.01960784],\n",
              "         [0.        ],\n",
              "         ...,\n",
              "         [0.        ],\n",
              "         [0.        ],\n",
              "         [0.        ]],\n",
              "\n",
              "        [[0.        ],\n",
              "         [0.01568628],\n",
              "         [0.        ],\n",
              "         ...,\n",
              "         [0.        ],\n",
              "         [0.        ],\n",
              "         [0.        ]],\n",
              "\n",
              "        ...,\n",
              "\n",
              "        [[0.        ],\n",
              "         [0.        ],\n",
              "         [0.        ],\n",
              "         ...,\n",
              "         [0.        ],\n",
              "         [0.        ],\n",
              "         [0.        ]],\n",
              "\n",
              "        [[0.04705882],\n",
              "         [0.02352941],\n",
              "         [0.02745098],\n",
              "         ...,\n",
              "         [0.        ],\n",
              "         [0.        ],\n",
              "         [0.        ]],\n",
              "\n",
              "        [[0.        ],\n",
              "         [0.        ],\n",
              "         [0.        ],\n",
              "         ...,\n",
              "         [0.        ],\n",
              "         [0.        ],\n",
              "         [0.        ]]],\n",
              "\n",
              "\n",
              "       ...,\n",
              "\n",
              "\n",
              "       [[[0.        ],\n",
              "         [0.03921569],\n",
              "         [0.01176471],\n",
              "         ...,\n",
              "         [0.        ],\n",
              "         [0.        ],\n",
              "         [0.        ]],\n",
              "\n",
              "        [[0.        ],\n",
              "         [0.        ],\n",
              "         [0.        ],\n",
              "         ...,\n",
              "         [0.        ],\n",
              "         [0.        ],\n",
              "         [0.        ]],\n",
              "\n",
              "        [[0.01568628],\n",
              "         [0.        ],\n",
              "         [0.        ],\n",
              "         ...,\n",
              "         [0.        ],\n",
              "         [0.        ],\n",
              "         [0.        ]],\n",
              "\n",
              "        ...,\n",
              "\n",
              "        [[0.06666667],\n",
              "         [0.        ],\n",
              "         [0.        ],\n",
              "         ...,\n",
              "         [0.        ],\n",
              "         [0.        ],\n",
              "         [0.03137255]],\n",
              "\n",
              "        [[0.        ],\n",
              "         [0.06666667],\n",
              "         [0.08235294],\n",
              "         ...,\n",
              "         [0.        ],\n",
              "         [0.01176471],\n",
              "         [0.01960784]],\n",
              "\n",
              "        [[0.07843138],\n",
              "         [0.        ],\n",
              "         [0.        ],\n",
              "         ...,\n",
              "         [0.        ],\n",
              "         [0.00784314],\n",
              "         [0.        ]]],\n",
              "\n",
              "\n",
              "       [[[0.        ],\n",
              "         [0.        ],\n",
              "         [0.        ],\n",
              "         ...,\n",
              "         [0.00784314],\n",
              "         [0.        ],\n",
              "         [0.02352941]],\n",
              "\n",
              "        [[0.        ],\n",
              "         [0.        ],\n",
              "         [0.        ],\n",
              "         ...,\n",
              "         [0.03529412],\n",
              "         [0.        ],\n",
              "         [0.01176471]],\n",
              "\n",
              "        [[0.        ],\n",
              "         [0.        ],\n",
              "         [0.        ],\n",
              "         ...,\n",
              "         [0.02352941],\n",
              "         [0.        ],\n",
              "         [0.        ]],\n",
              "\n",
              "        ...,\n",
              "\n",
              "        [[0.05882353],\n",
              "         [0.02745098],\n",
              "         [0.        ],\n",
              "         ...,\n",
              "         [0.01568628],\n",
              "         [0.02352941],\n",
              "         [0.        ]],\n",
              "\n",
              "        [[0.        ],\n",
              "         [0.        ],\n",
              "         [0.01176471],\n",
              "         ...,\n",
              "         [0.        ],\n",
              "         [0.        ],\n",
              "         [0.02352941]],\n",
              "\n",
              "        [[0.01568628],\n",
              "         [0.01960784],\n",
              "         [0.01568628],\n",
              "         ...,\n",
              "         [0.        ],\n",
              "         [0.        ],\n",
              "         [0.01176471]]],\n",
              "\n",
              "\n",
              "       [[[0.        ],\n",
              "         [0.01568628],\n",
              "         [0.00392157],\n",
              "         ...,\n",
              "         [0.        ],\n",
              "         [0.        ],\n",
              "         [0.        ]],\n",
              "\n",
              "        [[0.03529412],\n",
              "         [0.        ],\n",
              "         [0.01176471],\n",
              "         ...,\n",
              "         [0.        ],\n",
              "         [0.        ],\n",
              "         [0.        ]],\n",
              "\n",
              "        [[0.        ],\n",
              "         [0.        ],\n",
              "         [0.11372549],\n",
              "         ...,\n",
              "         [0.        ],\n",
              "         [0.        ],\n",
              "         [0.        ]],\n",
              "\n",
              "        ...,\n",
              "\n",
              "        [[0.01176471],\n",
              "         [0.00784314],\n",
              "         [0.        ],\n",
              "         ...,\n",
              "         [0.5686275 ],\n",
              "         [0.        ],\n",
              "         [0.        ]],\n",
              "\n",
              "        [[0.00392157],\n",
              "         [0.05490196],\n",
              "         [0.01176471],\n",
              "         ...,\n",
              "         [0.40392157],\n",
              "         [0.        ],\n",
              "         [0.        ]],\n",
              "\n",
              "        [[0.        ],\n",
              "         [0.        ],\n",
              "         [0.        ],\n",
              "         ...,\n",
              "         [0.04313726],\n",
              "         [0.        ],\n",
              "         [0.        ]]]], dtype=float32)"
            ]
          },
          "execution_count": 20,
          "metadata": {},
          "output_type": "execute_result"
        }
      ],
      "source": [
        "X"
      ]
    },
    {
      "cell_type": "code",
      "execution_count": null,
      "metadata": {
        "colab": {
          "base_uri": "https://localhost:8080/"
        },
        "id": "ChIMBhuwQnAu",
        "outputId": "74b637c9-e444-4b03-f2f3-70dd0bfe8456"
      },
      "outputs": [
        {
          "data": {
            "text/plain": [
              "array([[0, 0, 0, ..., 0, 0, 0],\n",
              "       [0, 0, 0, ..., 0, 0, 0],\n",
              "       [0, 0, 0, ..., 0, 0, 0],\n",
              "       ...,\n",
              "       [0, 0, 0, ..., 0, 0, 0],\n",
              "       [0, 0, 0, ..., 0, 0, 1],\n",
              "       [0, 0, 1, ..., 0, 0, 0]])"
            ]
          },
          "execution_count": 21,
          "metadata": {},
          "output_type": "execute_result"
        }
      ],
      "source": [
        "y"
      ]
    },
    {
      "cell_type": "markdown",
      "metadata": {
        "id": "pFQl-jiqOX8d"
      },
      "source": [
        "We can confirm that we are receiving images in batches of 128 and that the labels correspond to the images in each pipeline:"
      ]
    },
    {
      "cell_type": "markdown",
      "metadata": {
        "id": "54rhzGouOX8e"
      },
      "source": [
        "We can use PIL to view the augmented images and cofirm the labels match (note that PIL requires images to be specified differently to how Keras expects data, hence some preprocessing of the data must be performed):"
      ]
    },
    {
      "cell_type": "code",
      "execution_count": null,
      "metadata": {
        "colab": {
          "base_uri": "https://localhost:8080/",
          "height": 45
        },
        "id": "Z3vKp3W7OX8f",
        "outputId": "df74a9fd-e67e-403b-c495-63d0d081371e"
      },
      "outputs": [
        {
          "data": {
            "image/png": "[encoded data removed]",
            "text/plain": [
              "<PIL.Image.Image image mode=L size=28x28 at 0x7F797B89B410>"
            ]
          },
          "execution_count": 25,
          "metadata": {},
          "output_type": "execute_result"
        }
      ],
      "source": [
        "image_index = 8  # Take image index 3 from the batch\n",
        "\n",
        "x_array = X[image_index]\n",
        "x_array = x_array.reshape((28,28))\n",
        "x_array = x_array * 255\n",
        "x_array = x_array.astype(np.uint8)\n",
        "Image.fromarray(x_array)"
      ]
    },
    {
      "cell_type": "markdown",
      "metadata": {
        "id": "J6ty_r71OX8g"
      },
      "source": [
        "The label below should correspond to the image output above:"
      ]
    },
    {
      "cell_type": "code",
      "execution_count": null,
      "metadata": {
        "colab": {
          "base_uri": "https://localhost:8080/"
        },
        "id": "5Y0mq99pOX8g",
        "outputId": "5af99f70-c327-4eb1-865c-cef807b10753"
      },
      "outputs": [
        {
          "name": "stdout",
          "output_type": "stream",
          "text": [
            "Image label: 6\n"
          ]
        }
      ],
      "source": [
        "print(\"Image label: %s\" % (np.nonzero(y[image_index])[0][0]))"
      ]
    },
    {
      "cell_type": "code",
      "execution_count": null,
      "metadata": {
        "colab": {
          "base_uri": "https://localhost:8080/"
        },
        "id": "ZM3HyCnDRwVj",
        "outputId": "3c7572af-f7ad-4ad6-b198-32dcc7bd0ee9"
      },
      "outputs": [
        {
          "data": {
            "text/plain": [
              "0"
            ]
          },
          "execution_count": 42,
          "metadata": {},
          "output_type": "execute_result"
        }
      ],
      "source": [
        "pipeline_containers[0][1]"
      ]
    },
    {
      "cell_type": "markdown",
      "metadata": {
        "id": "vmuCx5brOX8j"
      },
      "source": [
        "## 9. Train a neural network with the generator\n",
        "\n",
        "Last, we train a neural network with the differing pipelines for each class.\n",
        "\n",
        "First we define a neural network:"
      ]
    },
    {
      "cell_type": "code",
      "execution_count": null,
      "metadata": {
        "id": "3pxVm5ztOX8k"
      },
      "outputs": [],
      "source": [
        "num_classes = len(pipelines)\n",
        "input_shape = (28, 28, 1)\n",
        "\n",
        "model = Sequential()\n",
        "model.add(Conv2D(32, kernel_size=(3, 3),\n",
        "                 activation='relu',\n",
        "                 input_shape=input_shape))\n",
        "model.add(Conv2D(64, (3, 3), activation='relu'))\n",
        "model.add(MaxPooling2D(pool_size=(2, 2)))\n",
        "model.add(Dropout(0.25))\n",
        "model.add(Flatten())\n",
        "model.add(Dense(128, activation='relu'))\n",
        "model.add(Dropout(0.5))\n",
        "model.add(Dense(num_classes, activation='softmax'))"
      ]
    },
    {
      "cell_type": "markdown",
      "metadata": {
        "id": "UI6nvBrLOX8l"
      },
      "source": [
        "Once a network has been defined, you can compile it so that the model is ready to be trained with data:"
      ]
    },
    {
      "cell_type": "code",
      "execution_count": null,
      "metadata": {
        "collapsed": true,
        "id": "qJHTP4JdOX8l"
      },
      "outputs": [],
      "source": [
        "model.compile(loss=keras.losses.categorical_crossentropy,\n",
        "              optimizer=keras.optimizers.Adadelta(),\n",
        "              metrics=['accuracy'])"
      ]
    },
    {
      "cell_type": "markdown",
      "metadata": {
        "id": "VDMYp0mJOX8m"
      },
      "source": [
        "Using the same batch size as the generator above, we can begin to train the neural network:"
      ]
    },
    {
      "cell_type": "code",
      "execution_count": null,
      "metadata": {
        "id": "YWQ_E7GWOX8n",
        "outputId": "56eef6bb-9fac-499e-f28f-0e8d033eb843"
      },
      "outputs": [
        {
          "name": "stdout",
          "output_type": "stream",
          "text": [
            "Epoch 1/10\n",
            "390/390 [==============================] - 31s - loss: 0.4767 - acc: 0.8502    \n",
            "Epoch 2/10\n",
            "390/390 [==============================] - 31s - loss: 0.1364 - acc: 0.9595    \n",
            "Epoch 3/10\n",
            "390/390 [==============================] - 30s - loss: 0.1029 - acc: 0.9691    \n",
            "Epoch 4/10\n",
            "390/390 [==============================] - 30s - loss: 0.0879 - acc: 0.9740    \n",
            "Epoch 5/10\n",
            "390/390 [==============================] - 30s - loss: 0.0778 - acc: 0.9771    \n",
            "Epoch 6/10\n",
            "390/390 [==============================] - 30s - loss: 0.0689 - acc: 0.9784    \n",
            "Epoch 7/10\n",
            "390/390 [==============================] - 30s - loss: 0.0650 - acc: 0.9804    \n",
            "Epoch 8/10\n",
            "390/390 [==============================] - 31s - loss: 0.0632 - acc: 0.9808    \n",
            "Epoch 9/10\n",
            "390/390 [==============================] - 30s - loss: 0.0594 - acc: 0.9828    \n",
            "Epoch 10/10\n",
            "390/390 [==============================] - 30s - loss: 0.0531 - acc: 0.9845    \n"
          ]
        }
      ],
      "source": [
        "h = model.fit_generator(g, steps_per_epoch=50000/batch_size, epochs=10, verbose=1)"
      ]
    }
  ],
  "metadata": {
    "colab": {
      "provenance": []
    },
    "kernelspec": {
      "display_name": "empirical",
      "language": "python",
      "name": "empirical"
    },
    "language_info": {
      "codemirror_mode": {
        "name": "ipython",
        "version": 2
      },
      "file_extension": ".py",
      "mimetype": "text/x-python",
      "name": "python",
      "nbconvert_exporter": "python",
      "pygments_lexer": "ipython2",
      "version": "2.7.6"
    }
  },
  "nbformat": 4,
  "nbformat_minor": 0
}