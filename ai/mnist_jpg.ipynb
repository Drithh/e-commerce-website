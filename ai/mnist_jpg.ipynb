{
  "nbformat": 4,
  "nbformat_minor": 0,
  "metadata": {
    "colab": {
      "provenance": []
    },
    "kernelspec": {
      "name": "python3",
      "display_name": "Python 3"
    },
    "language_info": {
      "name": "python"
    }
  },
  "cells": [
    {
      "cell_type": "code",
      "source": [
        "from keras.datasets import fashion_mnist\n",
        "from PIL import Image"
      ],
      "metadata": {
        "id": "dztfJvBL5yYD"
      },
      "execution_count": 1,
      "outputs": []
    },
    {
      "cell_type": "code",
      "source": [
        "(x_train, y_train), (x_test, y_test) = fashion_mnist.load_data()"
      ],
      "metadata": {
        "colab": {
          "base_uri": "https://localhost:8080/"
        },
        "id": "-IAOu-yC_6MT",
        "outputId": "5e63198e-f4fc-4264-e7f0-1ed35ccfba4b"
      },
      "execution_count": 2,
      "outputs": [
        {
          "output_type": "stream",
          "name": "stdout",
          "text": [
            "Downloading data from https://storage.googleapis.com/tensorflow/tf-keras-datasets/train-labels-idx1-ubyte.gz\n",
            "29515/29515 [==============================] - 0s 0us/step\n",
            "Downloading data from https://storage.googleapis.com/tensorflow/tf-keras-datasets/train-images-idx3-ubyte.gz\n",
            "26421880/26421880 [==============================] - 0s 0us/step\n",
            "Downloading data from https://storage.googleapis.com/tensorflow/tf-keras-datasets/t10k-labels-idx1-ubyte.gz\n",
            "5148/5148 [==============================] - 0s 0us/step\n",
            "Downloading data from https://storage.googleapis.com/tensorflow/tf-keras-datasets/t10k-images-idx3-ubyte.gz\n",
            "4422102/4422102 [==============================] - 0s 0us/step\n"
          ]
        }
      ]
    },
    {
      "cell_type": "code",
      "source": [
        "for i in range(0,59999):\n",
        "    temp = x_train[i]\n",
        "    path = \"train/\" + str(y_train[i]) + '/'\n",
        "    img_temp = Image.fromarray(temp)\n",
        "    img_temp.save(path + str(i) + '.jpg')"
      ],
      "metadata": {
        "id": "MkY7vVc5RnEt"
      },
      "execution_count": null,
      "outputs": []
    },
    {
      "cell_type": "code",
      "source": [
        "for i in range(0,10000):\n",
        "    temp = x_test[i]\n",
        "    path = \"train/\" + str(y_test[i]) + '/'\n",
        "    img_temp = Image.fromarray(temp)\n",
        "    img_temp.save(path + str(i) + '.jpg')"
      ],
      "metadata": {
        "id": "-HHuqUeWRzwm"
      },
      "execution_count": null,
      "outputs": []
    }
  ]
}